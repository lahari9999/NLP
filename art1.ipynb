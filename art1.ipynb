{
 "cells": [
  {
   "cell_type": "code",
   "execution_count": 1,
   "metadata": {},
   "outputs": [],
   "source": [
    "import os\n",
    "import nltk"
   ]
  },
  {
   "cell_type": "code",
   "execution_count": 2,
   "metadata": {},
   "outputs": [
    {
     "name": "stdout",
     "output_type": "stream",
     "text": [
      "showing info https://raw.githubusercontent.com/nltk/nltk_data/gh-pages/index.xml\n"
     ]
    },
    {
     "data": {
      "text/plain": [
       "True"
      ]
     },
     "execution_count": 2,
     "metadata": {},
     "output_type": "execute_result"
    }
   ],
   "source": [
    "nltk.download()"
   ]
  },
  {
   "cell_type": "code",
   "execution_count": 3,
   "metadata": {},
   "outputs": [],
   "source": [
    "f1 = 'syncorona.txt'"
   ]
  },
  {
   "cell_type": "code",
   "execution_count": 4,
   "metadata": {},
   "outputs": [],
   "source": [
    "f1 = open('syncorona.txt','rt')"
   ]
  },
  {
   "cell_type": "code",
   "execution_count": 5,
   "metadata": {},
   "outputs": [],
   "source": [
    "allwords = f1.read()"
   ]
  },
  {
   "cell_type": "code",
   "execution_count": 6,
   "metadata": {},
   "outputs": [
    {
     "name": "stdout",
     "output_type": "stream",
     "text": [
      "﻿What are the symptoms of COVID-19?\n",
      "Some people infected with the virus have no symptoms. When the virus does cause symptoms, common ones include low-grade fever, body aches, coughing, nasal congestion, runny nose, and sore throat. However, COVID-19 can occasionally cause more severe symptoms like high fever, severe cough, and shortness of breath, which often indicates pneumonia.\n",
      "How long is it between when a person is exposed to the virus and when they start showing symptoms?\n",
      "Because this coronavirus has just been discovered, the time from exposure to symptom onset (known as the incubation period) for most people has yet to be determined. Based on current information, symptoms could appear as soon as three days after exposure to as long as 13 days later. Recently published research found that on average, the incubation period is about five days.\n",
      "How does coronavirus spread?\n",
      "The coronavirus is thought to spread mainly from person to person. This can happen between people who are in close contact with one another. Droplets that are produced when an infected person coughs or sneezes may land in the mouths or noses of people who are nearby, or possibly be inhaled into their lungs.\n",
      "Coronavirus can also spread from contact with infected surfaces or objects. For example, a person can get COVID-19 by touching a surface or object that has the virus on it and then touching their own mouth, nose, or possibly their eyes.\n",
      "How deadly is COVID-19?\n",
      "The answer depends on whether you're looking at the fatality rate (the risk of death among those who are infected) or the total number of deaths. So far, influenza has caused far more deaths this flu season, both in the US and worldwide, than COVID-19. This is why you may have heard it said that the flu is a bigger threat.\n",
      "Regarding the fatality rate, it appears that the risk of death with the pandemic coronavirus infection (commonly estimated at 3% to 4%) is less than it was for SARS (approximately 11%) and MERS (about 35%), but may be higher than the risk from seasonal flu (which averages about 0.1%).\n",
      "However, the numbers circulating right now for this new coronavirus are likely to be adjusted over time, as more people are tested and reporting becomes more consistent. For example, testing has been limited at the start of the outbreak, which could result in fewer identified cases, making it seem as though a larger percentage of infections are fatal. In fact, some recent estimates put the mortality rate of the new coronavirus closer to 1%.\n",
      "Who is at highest risk for getting very sick from COVID-19?\n",
      "Older people, and those with underlying medical problems like chronic bronchitis, emphysema, heart failure, or diabetes, are more likely to develop serious illness.\n",
      "Are kids immune to the virus that causes COVID-19?\n",
      "Children, including very young children, can develop COVID-19. However, children tend to experience milder symptoms such as fever, runny nose, and cough. Some children have had severe complications, but this has been less common. Children with underlying health conditions may be at increased risk for severe illness.\n",
      "Will warm weather stop the outbreak of COVID-19?\n",
      "Some viruses, like the common cold and flu, spread more when the weather is colder. But it is still possible to become sick with these viruses during warmer months. At this time, we do not know whether the spread of COVID-19 will decrease when the weather warms up.\n",
      "Should I accept packages from China?\n",
      "There is no reason to suspect that packages from China harbor coronavirus. Remember, this is a respiratory virus similar to the flu. We don't stop receiving packages from China during their flu season. We should follow that same logic for the virus that causes COVID-19.\n",
      "Can I catch the coronavirus by eating food handled or prepared by others?\n",
      "We are still learning about transmission of the new coronavirus. It's not clear if it can be spread by an infected person through food they have handled or prepared, but if so it would more likely be the exception than the rule.\n",
      "That said, the new coronavirus is a respiratory virus known to spread by upper respiratory secretions, including airborne droplets after coughing or sneezing. The virus that causes COVID-19 has also been detected in the stool of certain people. So we currently cannot rule out the possibility of the infection being transmitted through food by an infected person who has not thoroughly washed their hands. In the case of hot food, the virus would likely be killed by cooking. This may not be the case with uncooked foods like salads or sandwiches.\n",
      "Prevention:\n",
      "What can I do to protect myself and others from COVID-19?\n",
      "The following actions help prevent the spread of COVID-19, as well as other coronaviruses and influenza:\n",
      "* Avoid close contact with people who are sick.\n",
      "* Avoid touching your eyes, nose, and mouth.\n",
      "* Stay home when you are sick.\n",
      "* Cover your cough or sneeze with a tissue, then throw the tissue in the trash.\n",
      "* Clean and disinfect frequently touched objects and surfaces using a regular household cleaning spray or wipe.\n",
      "* Wash your hands often with soap and water.\n",
      "\n",
      "\n",
      "What do I need to know about washing my hands effectively?\n",
      "Wash your hands often with soap and water for at least 20 seconds, especially after going to the bathroom; before eating; and after blowing your nose, coughing, or sneezing.\n",
      "* If soap and water are not readily available, use an alcohol-based hand sanitizer with at least 60% alcohol, covering all surfaces of your hands and rubbing them together until they feel dry.\n",
      "* Always wash hands with soap and water if hands are visibly dirty.\n",
      "* The CDC's handwashing website has detailed instructions and a video about effective handwashing procedures.\n",
      "Should I wear a face mask? \n",
      "Follow public health recommendations where you live. As of February 26, 2020, face masks are not recommended for the general public in the US. Some health facilities require people to wear a mask under certain circumstances.\n",
      "If you have respiratory symptoms like coughing or sneezing, experts recommend wearing a mask to protect others. This may help contain droplets containing any type of virus, including the flu, and protect anyone within three to six feet of the infected person.\n",
      "The CDC offers more information about masks. The WHO offers videos and illustrations on when and how to use a mask.\n",
      "Is it safe to travel by airplane?\n",
      "Stay current on travel advisories from regulatory agencies. This is a rapidly changing situation.\n",
      "Anyone who has a fever and respiratory symptoms should not fly if at all possible. Even if a person has symptoms that feel like just a cold, he or she should wear a mask on an airplane.\n",
      "Is there a vaccine available?\n",
      "No vaccine is available, although scientists will be starting human testing on a vaccine very soon. However, it may be a year or more before we even know if we have a vaccine that works.\n",
      "Can a person who has had coronavirus get infected again?\n",
      "While we don't know the answer yet, most people would likely develop at least short-term immunity to the specific coronavirus that causes COVID-19. However, you would still be susceptible to a different coronavirus infection. Or, this particular virus could mutate, just like the influenza virus does each year. Often these mutations change the virus enough to make you susceptible, because your immune system thinks it is an infection that it has never seen before.\n",
      "How long can the coronavirus that causes COVID-19 survive on surfaces?\n",
      "We don't yet know how long the coronavirus can survive on surfaces such as plastic, porcelain, granite, steel, or copper. In the meantime, the CDC recommends cleaning frequently touched surfaces and objects every day. These include counters, tabletops, doorknobs, bathroom fixtures, toilets, phones, keyboards, tablets, and bedside tables.\n",
      "If surfaces are dirty, first clean them using a detergent and water, then disinfect them. A list of products suitable for use against COVID-19 is available here. This list has been pre-approved by the U.S. Environmental Protection Agency (EPA) for use during the COVID-19 outbreak.\n",
      "I'm taking a medication that suppresses my immune system. Should I stop taking it so I have less chance of getting sick from the coronavirus?\n",
      "If you contract the virus, your response to it will depend on many factors, only one of which is taking medication that suppresses your immune system. In addition, stopping the medication on your own could cause your underlying condition to get worse. Most importantly, don't make this decision on your own. It's always best not to adjust the dose or stop taking a prescription medication without first talking to the doctor who prescribed the medication.\n",
      "Will a pneumococcal vaccine help protect me against coronavirus?\n",
      "Vaccines against pneumonia, such as pneumococcal vaccine and Haemophilus influenza type B (Hib) vaccine, only help protect people from these specific bacterial infections. They do not protect against any coronavirus pneumonia, including pneumonia that may be part of COVID-19. However, even though these vaccines do not specifically protect against the coronavirus that causes COVID-19, they are highly recommended to protect against other respiratory illnesses.\n",
      "I'm older and have a chronic medical condition, which puts me at higher risk for getting seriously ill, or even dying from COVID-19. What can I do to reduce my risk of exposure to the virus?\n",
      "Anyone 60 years or older is considered to be at higher risk for getting very sick from COVID-19. This is true whether or not you also have an underlying medical condition, although the sickest individuals and most of the deaths have been among people who were both older and had chronic medical conditions, such as heart disease, lung problems or diabetes.\n",
      "The CDC suggests the following measures for those who are at higher risk:\n",
      "* Obtain several weeks of medications and supplies in case you need to stay home for prolonged periods of time.\n",
      "* Take everyday precautions to keep space between yourself and others.\n",
      "* When you go out in public, keep away from others who are sick, limit close contact, and wash your hands often.\n",
      "* Avoid crowds.\n",
      "* Avoid cruise travel and nonessential air travel.\n"
     ]
    }
   ],
   "source": [
    "print(allwords)"
   ]
  },
  {
   "cell_type": "code",
   "execution_count": 7,
   "metadata": {},
   "outputs": [
    {
     "name": "stdout",
     "output_type": "stream",
     "text": [
      "['what', 'are', 'the', 'symptoms', 'of', 'covid', '19', 'some', 'people', 'infected', 'with', 'the', 'virus', 'have', 'no', 'symptoms', 'when', 'the', 'virus', 'does', 'cause', 'symptoms', 'common', 'ones', 'include', 'low', 'grade', 'fever', 'body', 'aches', 'coughing', 'nasal', 'congestion', 'runny', 'nose', 'and', 'sore', 'throat', 'however', 'covid', '19', 'can', 'occasionally', 'cause', 'more', 'severe', 'symptoms', 'like', 'high', 'fever', 'severe', 'cough', 'and', 'shortness', 'of', 'breath', 'which', 'often', 'indicates', 'pneumonia', 'how', 'long', 'is', 'it', 'between', 'when', 'a', 'person', 'is', 'exposed', 'to', 'the', 'virus', 'and', 'when', 'they', 'start', 'showing', 'symptoms', 'because', 'this', 'coronavirus', 'has', 'just', 'been', 'discovered', 'the', 'time', 'from', 'exposure', 'to', 'symptom', 'onset', 'known', 'as', 'the', 'incubation', 'period', 'for', 'most', 'people', 'has', 'yet', 'to', 'be', 'determined', 'based', 'on', 'current', 'information', 'symptoms', 'could', 'appear', 'as', 'soon', 'as', 'three', 'days', 'after', 'exposure', 'to', 'as', 'long', 'as', '13', 'days', 'later', 'recently', 'published', 'research', 'found', 'that', 'on', 'average', 'the', 'incubation', 'period', 'is', 'about', 'five', 'days', 'how', 'does', 'coronavirus', 'spread', 'the', 'coronavirus', 'is', 'thought', 'to', 'spread', 'mainly', 'from', 'person', 'to', 'person', 'this', 'can', 'happen', 'between', 'people', 'who', 'are', 'in', 'close', 'contact', 'with', 'one', 'another', 'droplets', 'that', 'are', 'produced', 'when', 'an', 'infected', 'person', 'coughs', 'or', 'sneezes', 'may', 'land', 'in', 'the', 'mouths', 'or', 'noses', 'of', 'people', 'who', 'are', 'nearby', 'or', 'possibly', 'be', 'inhaled', 'into', 'their', 'lungs', 'coronavirus', 'can', 'also', 'spread', 'from', 'contact', 'with', 'infected', 'surfaces', 'or', 'objects', 'for', 'example', 'a', 'person', 'can', 'get', 'covid', '19', 'by', 'touching', 'a', 'surface', 'or', 'object', 'that', 'has', 'the', 'virus', 'on', 'it', 'and', 'then', 'touching', 'their', 'own', 'mouth', 'nose', 'or', 'possibly', 'their', 'eyes', 'how', 'deadly', 'is', 'covid', '19', 'the', 'answer', 'depends', 'on', 'whether', 'you', 're', 'looking', 'at', 'the', 'fatality', 'rate', 'the', 'risk', 'of', 'death', 'among', 'those', 'who', 'are', 'infected', 'or', 'the', 'total', 'number', 'of', 'deaths', 'so', 'far', 'influenza', 'has', 'caused', 'far', 'more', 'deaths', 'this', 'flu', 'season', 'both', 'in', 'the', 'us', 'and', 'worldwide', 'than', 'covid', '19', 'this', 'is', 'why', 'you', 'may', 'have', 'heard', 'it', 'said', 'that', 'the', 'flu', 'is', 'a', 'bigger', 'threat', 'regarding', 'the', 'fatality', 'rate', 'it', 'appears', 'that', 'the', 'risk', 'of', 'death', 'with', 'the', 'pandemic', 'coronavirus', 'infection', 'commonly', 'estimated', 'at', '3', 'to', '4', 'is', 'less', 'than', 'it', 'was', 'for', 'sars', 'approximately', '11', 'and', 'mers', 'about', '35', 'but', 'may', 'be', 'higher', 'than', 'the', 'risk', 'from', 'seasonal', 'flu', 'which', 'averages', 'about', '0', '1', 'however', 'the', 'numbers', 'circulating', 'right', 'now', 'for', 'this', 'new', 'coronavirus', 'are', 'likely', 'to', 'be', 'adjusted', 'over', 'time', 'as', 'more', 'people', 'are', 'tested', 'and', 'reporting', 'becomes', 'more', 'consistent', 'for', 'example', 'testing', 'has', 'been', 'limited', 'at', 'the', 'start', 'of', 'the', 'outbreak', 'which', 'could', 'result', 'in', 'fewer', 'identified', 'cases', 'making', 'it', 'seem', 'as', 'though', 'a', 'larger', 'percentage', 'of', 'infections', 'are', 'fatal', 'in', 'fact', 'some', 'recent', 'estimates', 'put', 'the', 'mortality', 'rate', 'of', 'the', 'new', 'coronavirus', 'closer', 'to', '1', 'who', 'is', 'at', 'highest', 'risk', 'for', 'getting', 'very', 'sick', 'from', 'covid', '19', 'older', 'people', 'and', 'those', 'with', 'underlying', 'medical', 'problems', 'like', 'chronic', 'bronchitis', 'emphysema', 'heart', 'failure', 'or', 'diabetes', 'are', 'more', 'likely', 'to', 'develop', 'serious', 'illness', 'are', 'kids', 'immune', 'to', 'the', 'virus', 'that', 'causes', 'covid', '19', 'children', 'including', 'very', 'young', 'children', 'can', 'develop', 'covid', '19', 'however', 'children', 'tend', 'to', 'experience', 'milder', 'symptoms', 'such', 'as', 'fever', 'runny', 'nose', 'and', 'cough', 'some', 'children', 'have', 'had', 'severe', 'complications', 'but', 'this', 'has', 'been', 'less', 'common', 'children', 'with', 'underlying', 'health', 'conditions', 'may', 'be', 'at', 'increased', 'risk', 'for', 'severe', 'illness', 'will', 'warm', 'weather', 'stop', 'the', 'outbreak', 'of', 'covid', '19', 'some', 'viruses', 'like', 'the', 'common', 'cold', 'and', 'flu', 'spread', 'more', 'when', 'the', 'weather', 'is', 'colder', 'but', 'it', 'is', 'still', 'possible', 'to', 'become', 'sick', 'with', 'these', 'viruses', 'during', 'warmer', 'months', 'at', 'this', 'time', 'we', 'do', 'not', 'know', 'whether', 'the', 'spread', 'of', 'covid', '19', 'will', 'decrease', 'when', 'the', 'weather', 'warms', 'up', 'should', 'i', 'accept', 'packages', 'from', 'china', 'there', 'is', 'no', 'reason', 'to', 'suspect', 'that', 'packages', 'from', 'china', 'harbor', 'coronavirus', 'remember', 'this', 'is', 'a', 'respiratory', 'virus', 'similar', 'to', 'the', 'flu', 'we', 'don', 't', 'stop', 'receiving', 'packages', 'from', 'china', 'during', 'their', 'flu', 'season', 'we', 'should', 'follow', 'that', 'same', 'logic', 'for', 'the', 'virus', 'that', 'causes', 'covid', '19', 'can', 'i', 'catch', 'the', 'coronavirus', 'by', 'eating', 'food', 'handled', 'or', 'prepared', 'by', 'others', 'we', 'are', 'still', 'learning', 'about', 'transmission', 'of', 'the', 'new', 'coronavirus', 'it', 's', 'not', 'clear', 'if', 'it', 'can', 'be', 'spread', 'by', 'an', 'infected', 'person', 'through', 'food', 'they', 'have', 'handled', 'or', 'prepared', 'but', 'if', 'so', 'it', 'would', 'more', 'likely', 'be', 'the', 'exception', 'than', 'the', 'rule', 'that', 'said', 'the', 'new', 'coronavirus', 'is', 'a', 'respiratory', 'virus', 'known', 'to', 'spread', 'by', 'upper', 'respiratory', 'secretions', 'including', 'airborne', 'droplets', 'after', 'coughing', 'or', 'sneezing', 'the', 'virus', 'that', 'causes', 'covid', '19', 'has', 'also', 'been', 'detected', 'in', 'the', 'stool', 'of', 'certain', 'people', 'so', 'we', 'currently', 'cannot', 'rule', 'out', 'the', 'possibility', 'of', 'the', 'infection', 'being', 'transmitted', 'through', 'food', 'by', 'an', 'infected', 'person', 'who', 'has', 'not', 'thoroughly', 'washed', 'their', 'hands', 'in', 'the', 'case', 'of', 'hot', 'food', 'the', 'virus', 'would', 'likely', 'be', 'killed', 'by', 'cooking', 'this', 'may', 'not', 'be', 'the', 'case', 'with', 'uncooked', 'foods', 'like', 'salads', 'or', 'sandwiches', 'prevention', 'what', 'can', 'i', 'do', 'to', 'protect', 'myself', 'and', 'others', 'from', 'covid', '19', 'the', 'following', 'actions', 'help', 'prevent', 'the', 'spread', 'of', 'covid', '19', 'as', 'well', 'as', 'other', 'coronaviruses', 'and', 'influenza', 'avoid', 'close', 'contact', 'with', 'people', 'who', 'are', 'sick', 'avoid', 'touching', 'your', 'eyes', 'nose', 'and', 'mouth', 'stay', 'home', 'when', 'you', 'are', 'sick', 'cover', 'your', 'cough', 'or', 'sneeze', 'with', 'a', 'tissue', 'then', 'throw', 'the', 'tissue', 'in', 'the', 'trash', 'clean', 'and', 'disinfect', 'frequently', 'touched', 'objects', 'and', 'surfaces', 'using', 'a', 'regular', 'household', 'cleaning', 'spray', 'or', 'wipe', 'wash', 'your', 'hands', 'often', 'with', 'soap', 'and', 'water', 'what', 'do', 'i', 'need', 'to', 'know', 'about', 'washing', 'my', 'hands', 'effectively', 'wash', 'your', 'hands', 'often', 'with', 'soap', 'and', 'water', 'for', 'at', 'least', '20', 'seconds', 'especially', 'after', 'going', 'to', 'the', 'bathroom', 'before', 'eating', 'and', 'after', 'blowing', 'your', 'nose', 'coughing', 'or', 'sneezing', 'if', 'soap', 'and', 'water', 'are', 'not', 'readily', 'available', 'use', 'an', 'alcohol', 'based', 'hand', 'sanitizer', 'with', 'at', 'least', '60', 'alcohol', 'covering', 'all', 'surfaces', 'of', 'your', 'hands', 'and', 'rubbing', 'them', 'together', 'until', 'they', 'feel', 'dry', 'always', 'wash', 'hands', 'with', 'soap', 'and', 'water', 'if', 'hands', 'are', 'visibly', 'dirty', 'the', 'cdc', 's', 'handwashing', 'website', 'has', 'detailed', 'instructions', 'and', 'a', 'video', 'about', 'effective', 'handwashing', 'procedures', 'should', 'i', 'wear', 'a', 'face', 'mask', 'follow', 'public', 'health', 'recommendations', 'where', 'you', 'live', 'as', 'of', 'february', '26', '2020', 'face', 'masks', 'are', 'not', 'recommended', 'for', 'the', 'general', 'public', 'in', 'the', 'us', 'some', 'health', 'facilities', 'require', 'people', 'to', 'wear', 'a', 'mask', 'under', 'certain', 'circumstances', 'if', 'you', 'have', 'respiratory', 'symptoms', 'like', 'coughing', 'or', 'sneezing', 'experts', 'recommend', 'wearing', 'a', 'mask', 'to', 'protect', 'others', 'this', 'may', 'help', 'contain', 'droplets', 'containing', 'any', 'type', 'of', 'virus', 'including', 'the', 'flu', 'and', 'protect', 'anyone', 'within', 'three', 'to', 'six', 'feet', 'of', 'the', 'infected', 'person', 'the', 'cdc', 'offers', 'more', 'information', 'about', 'masks', 'the', 'who', 'offers', 'videos', 'and', 'illustrations', 'on', 'when', 'and', 'how', 'to', 'use', 'a', 'mask', 'is', 'it', 'safe', 'to', 'travel', 'by', 'airplane', 'stay', 'current', 'on', 'travel', 'advisories', 'from', 'regulatory', 'agencies', 'this', 'is', 'a', 'rapidly', 'changing', 'situation', 'anyone', 'who', 'has', 'a', 'fever', 'and', 'respiratory', 'symptoms', 'should', 'not', 'fly', 'if', 'at', 'all', 'possible', 'even', 'if', 'a', 'person', 'has', 'symptoms', 'that', 'feel', 'like', 'just', 'a', 'cold', 'he', 'or', 'she', 'should', 'wear', 'a', 'mask', 'on', 'an', 'airplane', 'is', 'there', 'a', 'vaccine', 'available', 'no', 'vaccine', 'is', 'available', 'although', 'scientists', 'will', 'be', 'starting', 'human', 'testing', 'on', 'a', 'vaccine', 'very', 'soon', 'however', 'it', 'may', 'be', 'a', 'year', 'or', 'more', 'before', 'we', 'even', 'know', 'if', 'we', 'have', 'a', 'vaccine', 'that', 'works', 'can', 'a', 'person', 'who', 'has', 'had', 'coronavirus', 'get', 'infected', 'again', 'while', 'we', 'don', 't', 'know', 'the', 'answer', 'yet', 'most', 'people', 'would', 'likely', 'develop', 'at', 'least', 'short', 'term', 'immunity', 'to', 'the', 'specific', 'coronavirus', 'that', 'causes', 'covid', '19', 'however', 'you', 'would', 'still', 'be', 'susceptible', 'to', 'a', 'different', 'coronavirus', 'infection', 'or', 'this', 'particular', 'virus', 'could', 'mutate', 'just', 'like', 'the', 'influenza', 'virus', 'does', 'each', 'year', 'often', 'these', 'mutations', 'change', 'the', 'virus', 'enough', 'to', 'make', 'you', 'susceptible', 'because', 'your', 'immune', 'system', 'thinks', 'it', 'is', 'an', 'infection', 'that', 'it', 'has', 'never', 'seen', 'before', 'how', 'long', 'can', 'the', 'coronavirus', 'that', 'causes', 'covid', '19', 'survive', 'on', 'surfaces', 'we', 'don', 't', 'yet', 'know', 'how', 'long', 'the', 'coronavirus', 'can', 'survive', 'on', 'surfaces', 'such', 'as', 'plastic', 'porcelain', 'granite', 'steel', 'or', 'copper', 'in', 'the', 'meantime', 'the', 'cdc', 'recommends', 'cleaning', 'frequently', 'touched', 'surfaces', 'and', 'objects', 'every', 'day', 'these', 'include', 'counters', 'tabletops', 'doorknobs', 'bathroom', 'fixtures', 'toilets', 'phones', 'keyboards', 'tablets', 'and', 'bedside', 'tables', 'if', 'surfaces', 'are', 'dirty', 'first', 'clean', 'them', 'using', 'a', 'detergent', 'and', 'water', 'then', 'disinfect', 'them', 'a', 'list', 'of', 'products', 'suitable', 'for', 'use', 'against', 'covid', '19', 'is', 'available', 'here', 'this', 'list', 'has', 'been', 'pre', 'approved', 'by', 'the', 'u', 's', 'environmental', 'protection', 'agency', 'epa', 'for', 'use', 'during', 'the', 'covid', '19', 'outbreak', 'i', 'm', 'taking', 'a', 'medication', 'that', 'suppresses', 'my', 'immune', 'system', 'should', 'i', 'stop', 'taking', 'it', 'so', 'i', 'have', 'less', 'chance', 'of', 'getting', 'sick', 'from', 'the', 'coronavirus', 'if', 'you', 'contract', 'the', 'virus', 'your', 'response', 'to', 'it', 'will', 'depend', 'on', 'many', 'factors', 'only', 'one', 'of', 'which', 'is', 'taking', 'medication', 'that', 'suppresses', 'your', 'immune', 'system', 'in', 'addition', 'stopping', 'the', 'medication', 'on', 'your', 'own', 'could', 'cause', 'your', 'underlying', 'condition', 'to', 'get', 'worse', 'most', 'importantly', 'don', 't', 'make', 'this', 'decision', 'on', 'your', 'own', 'it', 's', 'always', 'best', 'not', 'to', 'adjust', 'the', 'dose', 'or', 'stop', 'taking', 'a', 'prescription', 'medication', 'without', 'first', 'talking', 'to', 'the', 'doctor', 'who', 'prescribed', 'the', 'medication', 'will', 'a', 'pneumococcal', 'vaccine', 'help', 'protect', 'me', 'against', 'coronavirus', 'vaccines', 'against', 'pneumonia', 'such', 'as', 'pneumococcal', 'vaccine', 'and', 'haemophilus', 'influenza', 'type', 'b', 'hib', 'vaccine', 'only', 'help', 'protect', 'people', 'from', 'these', 'specific', 'bacterial', 'infections', 'they', 'do', 'not', 'protect', 'against', 'any', 'coronavirus', 'pneumonia', 'including', 'pneumonia', 'that', 'may', 'be', 'part', 'of', 'covid', '19', 'however', 'even', 'though', 'these', 'vaccines', 'do', 'not', 'specifically', 'protect', 'against', 'the', 'coronavirus', 'that', 'causes', 'covid', '19', 'they', 'are', 'highly', 'recommended', 'to', 'protect', 'against', 'other', 'respiratory', 'illnesses', 'i', 'm', 'older', 'and', 'have', 'a', 'chronic', 'medical', 'condition', 'which', 'puts', 'me', 'at', 'higher', 'risk', 'for', 'getting', 'seriously', 'ill', 'or', 'even', 'dying', 'from', 'covid', '19', 'what', 'can', 'i', 'do', 'to', 'reduce', 'my', 'risk', 'of', 'exposure', 'to', 'the', 'virus', 'anyone', '60', 'years', 'or', 'older', 'is', 'considered', 'to', 'be', 'at', 'higher', 'risk', 'for', 'getting', 'very', 'sick', 'from', 'covid', '19', 'this', 'is', 'true', 'whether', 'or', 'not', 'you', 'also', 'have', 'an', 'underlying', 'medical', 'condition', 'although', 'the', 'sickest', 'individuals', 'and', 'most', 'of', 'the', 'deaths', 'have', 'been', 'among', 'people', 'who', 'were', 'both', 'older', 'and', 'had', 'chronic', 'medical', 'conditions', 'such', 'as', 'heart', 'disease', 'lung', 'problems', 'or', 'diabetes', 'the', 'cdc', 'suggests', 'the', 'following', 'measures', 'for', 'those', 'who', 'are', 'at', 'higher', 'risk', 'obtain', 'several', 'weeks', 'of', 'medications', 'and', 'supplies', 'in', 'case', 'you', 'need', 'to', 'stay', 'home', 'for', 'prolonged', 'periods', 'of', 'time', 'take', 'everyday', 'precautions', 'to', 'keep', 'space', 'between', 'yourself', 'and', 'others', 'when', 'you', 'go', 'out', 'in', 'public', 'keep', 'away', 'from', 'others', 'who', 'are', 'sick', 'limit', 'close', 'contact', 'and', 'wash', 'your', 'hands', 'often', 'avoid', 'crowds', 'avoid', 'cruise', 'travel', 'and', 'nonessential', 'air', 'travel']\n"
     ]
    }
   ],
   "source": [
    "from nltk.tokenize import RegexpTokenizer\n",
    "tokenizer = RegexpTokenizer(r'\\w+')\n",
    "tokens = tokenizer.tokenize(allwords.lower())\n",
    "print(tokens)"
   ]
  },
  {
   "cell_type": "code",
   "execution_count": 8,
   "metadata": {},
   "outputs": [
    {
     "data": {
      "text/plain": [
       "1725"
      ]
     },
     "execution_count": 8,
     "metadata": {},
     "output_type": "execute_result"
    }
   ],
   "source": [
    "len(tokens)"
   ]
  },
  {
   "cell_type": "code",
   "execution_count": 9,
   "metadata": {},
   "outputs": [
    {
     "data": {
      "text/plain": [
       "FreqDist({'the': 79, 'and': 37, 'to': 37, 'a': 31, 'of': 28, 'or': 25, 'is': 23, 'covid': 22, '19': 22, 'are': 20, ...})"
      ]
     },
     "execution_count": 9,
     "metadata": {},
     "output_type": "execute_result"
    }
   ],
   "source": [
    "from nltk.probability import FreqDist\n",
    "fdist = FreqDist()\n",
    "for word in tokens:\n",
    "    fdist[word]+=1\n",
    "fdist\n"
   ]
  },
  {
   "cell_type": "code",
   "execution_count": 45,
   "metadata": {},
   "outputs": [
    {
     "data": {
      "text/plain": [
       "[('covid', 22),\n",
       " ('19', 22),\n",
       " ('coronavirus', 20),\n",
       " ('virus', 16),\n",
       " ('people', 12),\n",
       " ('symptoms', 10),\n",
       " ('person', 10),\n",
       " ('risk', 9),\n",
       " ('infected', 8),\n",
       " ('spread', 8),\n",
       " ('may', 8),\n",
       " ('hands', 8),\n",
       " ('protect', 8),\n",
       " ('like', 7),\n",
       " ('surfaces', 7),\n",
       " ('flu', 7),\n",
       " ('sick', 7),\n",
       " ('vaccine', 7),\n",
       " ('however', 6),\n",
       " ('causes', 6),\n",
       " ('respiratory', 6),\n",
       " ('nose', 5),\n",
       " ('often', 5),\n",
       " ('likely', 5),\n",
       " ('children', 5)]"
      ]
     },
     "execution_count": 45,
     "metadata": {},
     "output_type": "execute_result"
    }
   ],
   "source": [
    "fdist_top25 = fdist.most_common(25)\n",
    "fdist_top25"
   ]
  },
  {
   "cell_type": "code",
   "execution_count": 11,
   "metadata": {},
   "outputs": [
    {
     "data": {
      "text/plain": [
       "2"
      ]
     },
     "execution_count": 11,
     "metadata": {},
     "output_type": "execute_result"
    }
   ],
   "source": [
    "from nltk.tokenize import blankline_tokenize\n",
    "L_blank = blankline_tokenize(allwords)\n",
    "len(L_blank)"
   ]
  },
  {
   "cell_type": "code",
   "execution_count": 12,
   "metadata": {},
   "outputs": [
    {
     "data": {
      "text/plain": [
       "179"
      ]
     },
     "execution_count": 12,
     "metadata": {},
     "output_type": "execute_result"
    }
   ],
   "source": [
    "from nltk.corpus import stopwords\n",
    "stopwords.words('english')\n",
    "len(stopwords.words('english'))"
   ]
  },
  {
   "cell_type": "code",
   "execution_count": 31,
   "metadata": {},
   "outputs": [],
   "source": [
    "stoptokens =[token for token in tokens if token not in stopwords.words('english')]"
   ]
  },
  {
   "cell_type": "code",
   "execution_count": 32,
   "metadata": {},
   "outputs": [
    {
     "name": "stdout",
     "output_type": "stream",
     "text": [
      "['symptoms', 'covid', '19', 'people', 'infected', 'virus', 'symptoms', 'virus', 'cause', 'symptoms', 'common', 'ones', 'include', 'low', 'grade', 'fever', 'body', 'aches', 'coughing', 'nasal', 'congestion', 'runny', 'nose', 'sore', 'throat', 'however', 'covid', '19', 'occasionally', 'cause', 'severe', 'symptoms', 'like', 'high', 'fever', 'severe', 'cough', 'shortness', 'breath', 'often', 'indicates', 'pneumonia', 'long', 'person', 'exposed', 'virus', 'start', 'showing', 'symptoms', 'coronavirus', 'discovered', 'time', 'exposure', 'symptom', 'onset', 'known', 'incubation', 'period', 'people', 'yet', 'determined', 'based', 'current', 'information', 'symptoms', 'could', 'appear', 'soon', 'three', 'days', 'exposure', 'long', '13', 'days', 'later', 'recently', 'published', 'research', 'found', 'average', 'incubation', 'period', 'five', 'days', 'coronavirus', 'spread', 'coronavirus', 'thought', 'spread', 'mainly', 'person', 'person', 'happen', 'people', 'close', 'contact', 'one', 'another', 'droplets', 'produced', 'infected', 'person', 'coughs', 'sneezes', 'may', 'land', 'mouths', 'noses', 'people', 'nearby', 'possibly', 'inhaled', 'lungs', 'coronavirus', 'also', 'spread', 'contact', 'infected', 'surfaces', 'objects', 'example', 'person', 'get', 'covid', '19', 'touching', 'surface', 'object', 'virus', 'touching', 'mouth', 'nose', 'possibly', 'eyes', 'deadly', 'covid', '19', 'answer', 'depends', 'whether', 'looking', 'fatality', 'rate', 'risk', 'death', 'among', 'infected', 'total', 'number', 'deaths', 'far', 'influenza', 'caused', 'far', 'deaths', 'flu', 'season', 'us', 'worldwide', 'covid', '19', 'may', 'heard', 'said', 'flu', 'bigger', 'threat', 'regarding', 'fatality', 'rate', 'appears', 'risk', 'death', 'pandemic', 'coronavirus', 'infection', 'commonly', 'estimated', '3', '4', 'less', 'sars', 'approximately', '11', 'mers', '35', 'may', 'higher', 'risk', 'seasonal', 'flu', 'averages', '0', '1', 'however', 'numbers', 'circulating', 'right', 'new', 'coronavirus', 'likely', 'adjusted', 'time', 'people', 'tested', 'reporting', 'becomes', 'consistent', 'example', 'testing', 'limited', 'start', 'outbreak', 'could', 'result', 'fewer', 'identified', 'cases', 'making', 'seem', 'though', 'larger', 'percentage', 'infections', 'fatal', 'fact', 'recent', 'estimates', 'put', 'mortality', 'rate', 'new', 'coronavirus', 'closer', '1', 'highest', 'risk', 'getting', 'sick', 'covid', '19', 'older', 'people', 'underlying', 'medical', 'problems', 'like', 'chronic', 'bronchitis', 'emphysema', 'heart', 'failure', 'diabetes', 'likely', 'develop', 'serious', 'illness', 'kids', 'immune', 'virus', 'causes', 'covid', '19', 'children', 'including', 'young', 'children', 'develop', 'covid', '19', 'however', 'children', 'tend', 'experience', 'milder', 'symptoms', 'fever', 'runny', 'nose', 'cough', 'children', 'severe', 'complications', 'less', 'common', 'children', 'underlying', 'health', 'conditions', 'may', 'increased', 'risk', 'severe', 'illness', 'warm', 'weather', 'stop', 'outbreak', 'covid', '19', 'viruses', 'like', 'common', 'cold', 'flu', 'spread', 'weather', 'colder', 'still', 'possible', 'become', 'sick', 'viruses', 'warmer', 'months', 'time', 'know', 'whether', 'spread', 'covid', '19', 'decrease', 'weather', 'warms', 'accept', 'packages', 'china', 'reason', 'suspect', 'packages', 'china', 'harbor', 'coronavirus', 'remember', 'respiratory', 'virus', 'similar', 'flu', 'stop', 'receiving', 'packages', 'china', 'flu', 'season', 'follow', 'logic', 'virus', 'causes', 'covid', '19', 'catch', 'coronavirus', 'eating', 'food', 'handled', 'prepared', 'others', 'still', 'learning', 'transmission', 'new', 'coronavirus', 'clear', 'spread', 'infected', 'person', 'food', 'handled', 'prepared', 'would', 'likely', 'exception', 'rule', 'said', 'new', 'coronavirus', 'respiratory', 'virus', 'known', 'spread', 'upper', 'respiratory', 'secretions', 'including', 'airborne', 'droplets', 'coughing', 'sneezing', 'virus', 'causes', 'covid', '19', 'also', 'detected', 'stool', 'certain', 'people', 'currently', 'cannot', 'rule', 'possibility', 'infection', 'transmitted', 'food', 'infected', 'person', 'thoroughly', 'washed', 'hands', 'case', 'hot', 'food', 'virus', 'would', 'likely', 'killed', 'cooking', 'may', 'case', 'uncooked', 'foods', 'like', 'salads', 'sandwiches', 'prevention', 'protect', 'others', 'covid', '19', 'following', 'actions', 'help', 'prevent', 'spread', 'covid', '19', 'well', 'coronaviruses', 'influenza', 'avoid', 'close', 'contact', 'people', 'sick', 'avoid', 'touching', 'eyes', 'nose', 'mouth', 'stay', 'home', 'sick', 'cover', 'cough', 'sneeze', 'tissue', 'throw', 'tissue', 'trash', 'clean', 'disinfect', 'frequently', 'touched', 'objects', 'surfaces', 'using', 'regular', 'household', 'cleaning', 'spray', 'wipe', 'wash', 'hands', 'often', 'soap', 'water', 'need', 'know', 'washing', 'hands', 'effectively', 'wash', 'hands', 'often', 'soap', 'water', 'least', '20', 'seconds', 'especially', 'going', 'bathroom', 'eating', 'blowing', 'nose', 'coughing', 'sneezing', 'soap', 'water', 'readily', 'available', 'use', 'alcohol', 'based', 'hand', 'sanitizer', 'least', '60', 'alcohol', 'covering', 'surfaces', 'hands', 'rubbing', 'together', 'feel', 'dry', 'always', 'wash', 'hands', 'soap', 'water', 'hands', 'visibly', 'dirty', 'cdc', 'handwashing', 'website', 'detailed', 'instructions', 'video', 'effective', 'handwashing', 'procedures', 'wear', 'face', 'mask', 'follow', 'public', 'health', 'recommendations', 'live', 'february', '26', '2020', 'face', 'masks', 'recommended', 'general', 'public', 'us', 'health', 'facilities', 'require', 'people', 'wear', 'mask', 'certain', 'circumstances', 'respiratory', 'symptoms', 'like', 'coughing', 'sneezing', 'experts', 'recommend', 'wearing', 'mask', 'protect', 'others', 'may', 'help', 'contain', 'droplets', 'containing', 'type', 'virus', 'including', 'flu', 'protect', 'anyone', 'within', 'three', 'six', 'feet', 'infected', 'person', 'cdc', 'offers', 'information', 'masks', 'offers', 'videos', 'illustrations', 'use', 'mask', 'safe', 'travel', 'airplane', 'stay', 'current', 'travel', 'advisories', 'regulatory', 'agencies', 'rapidly', 'changing', 'situation', 'anyone', 'fever', 'respiratory', 'symptoms', 'fly', 'possible', 'even', 'person', 'symptoms', 'feel', 'like', 'cold', 'wear', 'mask', 'airplane', 'vaccine', 'available', 'vaccine', 'available', 'although', 'scientists', 'starting', 'human', 'testing', 'vaccine', 'soon', 'however', 'may', 'year', 'even', 'know', 'vaccine', 'works', 'person', 'coronavirus', 'get', 'infected', 'know', 'answer', 'yet', 'people', 'would', 'likely', 'develop', 'least', 'short', 'term', 'immunity', 'specific', 'coronavirus', 'causes', 'covid', '19', 'however', 'would', 'still', 'susceptible', 'different', 'coronavirus', 'infection', 'particular', 'virus', 'could', 'mutate', 'like', 'influenza', 'virus', 'year', 'often', 'mutations', 'change', 'virus', 'enough', 'make', 'susceptible', 'immune', 'system', 'thinks', 'infection', 'never', 'seen', 'long', 'coronavirus', 'causes', 'covid', '19', 'survive', 'surfaces', 'yet', 'know', 'long', 'coronavirus', 'survive', 'surfaces', 'plastic', 'porcelain', 'granite', 'steel', 'copper', 'meantime', 'cdc', 'recommends', 'cleaning', 'frequently', 'touched', 'surfaces', 'objects', 'every', 'day', 'include', 'counters', 'tabletops', 'doorknobs', 'bathroom', 'fixtures', 'toilets', 'phones', 'keyboards', 'tablets', 'bedside', 'tables', 'surfaces', 'dirty', 'first', 'clean', 'using', 'detergent', 'water', 'disinfect', 'list', 'products', 'suitable', 'use', 'covid', '19', 'available', 'list', 'pre', 'approved', 'u', 'environmental', 'protection', 'agency', 'epa', 'use', 'covid', '19', 'outbreak', 'taking', 'medication', 'suppresses', 'immune', 'system', 'stop', 'taking', 'less', 'chance', 'getting', 'sick', 'coronavirus', 'contract', 'virus', 'response', 'depend', 'many', 'factors', 'one', 'taking', 'medication', 'suppresses', 'immune', 'system', 'addition', 'stopping', 'medication', 'could', 'cause', 'underlying', 'condition', 'get', 'worse', 'importantly', 'make', 'decision', 'always', 'best', 'adjust', 'dose', 'stop', 'taking', 'prescription', 'medication', 'without', 'first', 'talking', 'doctor', 'prescribed', 'medication', 'pneumococcal', 'vaccine', 'help', 'protect', 'coronavirus', 'vaccines', 'pneumonia', 'pneumococcal', 'vaccine', 'haemophilus', 'influenza', 'type', 'b', 'hib', 'vaccine', 'help', 'protect', 'people', 'specific', 'bacterial', 'infections', 'protect', 'coronavirus', 'pneumonia', 'including', 'pneumonia', 'may', 'part', 'covid', '19', 'however', 'even', 'though', 'vaccines', 'specifically', 'protect', 'coronavirus', 'causes', 'covid', '19', 'highly', 'recommended', 'protect', 'respiratory', 'illnesses', 'older', 'chronic', 'medical', 'condition', 'puts', 'higher', 'risk', 'getting', 'seriously', 'ill', 'even', 'dying', 'covid', '19', 'reduce', 'risk', 'exposure', 'virus', 'anyone', '60', 'years', 'older', 'considered', 'higher', 'risk', 'getting', 'sick', 'covid', '19', 'true', 'whether', 'also', 'underlying', 'medical', 'condition', 'although', 'sickest', 'individuals', 'deaths', 'among', 'people', 'older', 'chronic', 'medical', 'conditions', 'heart', 'disease', 'lung', 'problems', 'diabetes', 'cdc', 'suggests', 'following', 'measures', 'higher', 'risk', 'obtain', 'several', 'weeks', 'medications', 'supplies', 'case', 'need', 'stay', 'home', 'prolonged', 'periods', 'time', 'take', 'everyday', 'precautions', 'keep', 'space', 'others', 'go', 'public', 'keep', 'away', 'others', 'sick', 'limit', 'close', 'contact', 'wash', 'hands', 'often', 'avoid', 'crowds', 'avoid', 'cruise', 'travel', 'nonessential', 'air', 'travel']\n"
     ]
    }
   ],
   "source": [
    "print(stoptokens)"
   ]
  },
  {
   "cell_type": "code",
   "execution_count": 15,
   "metadata": {
    "scrolled": true
   },
   "outputs": [
    {
     "data": {
      "text/plain": [
       "944"
      ]
     },
     "execution_count": 15,
     "metadata": {},
     "output_type": "execute_result"
    }
   ],
   "source": [
    "len(stoptokens)"
   ]
  },
  {
   "cell_type": "code",
   "execution_count": 33,
   "metadata": {},
   "outputs": [
    {
     "data": {
      "text/plain": [
       "FreqDist({'covid': 22, '19': 22, 'coronavirus': 20, 'virus': 16, 'people': 12, 'symptoms': 10, 'person': 10, 'risk': 9, 'infected': 8, 'spread': 8, ...})"
      ]
     },
     "execution_count": 33,
     "metadata": {},
     "output_type": "execute_result"
    }
   ],
   "source": [
    "from nltk.probability import FreqDist\n",
    "fdist = FreqDist()\n",
    "for word in stoptokens:\n",
    "    fdist[word]+=1\n",
    "fdist\n"
   ]
  },
  {
   "cell_type": "code",
   "execution_count": 34,
   "metadata": {},
   "outputs": [],
   "source": [
    "first = fdist.most_common(25)"
   ]
  },
  {
   "cell_type": "code",
   "execution_count": 35,
   "metadata": {},
   "outputs": [
    {
     "data": {
      "text/plain": [
       "[('covid', 22),\n",
       " ('19', 22),\n",
       " ('coronavirus', 20),\n",
       " ('virus', 16),\n",
       " ('people', 12),\n",
       " ('symptoms', 10),\n",
       " ('person', 10),\n",
       " ('risk', 9),\n",
       " ('infected', 8),\n",
       " ('spread', 8),\n",
       " ('may', 8),\n",
       " ('hands', 8),\n",
       " ('protect', 8),\n",
       " ('like', 7),\n",
       " ('surfaces', 7),\n",
       " ('flu', 7),\n",
       " ('sick', 7),\n",
       " ('vaccine', 7),\n",
       " ('however', 6),\n",
       " ('causes', 6),\n",
       " ('respiratory', 6),\n",
       " ('nose', 5),\n",
       " ('often', 5),\n",
       " ('likely', 5),\n",
       " ('children', 5)]"
      ]
     },
     "execution_count": 35,
     "metadata": {},
     "output_type": "execute_result"
    }
   ],
   "source": [
    "first"
   ]
  },
  {
   "cell_type": "code",
   "execution_count": 44,
   "metadata": {},
   "outputs": [
    {
     "data": {
      "text/plain": [
       "<matplotlib.axes._subplots.AxesSubplot at 0x1a2ad917d0>"
      ]
     },
     "execution_count": 44,
     "metadata": {},
     "output_type": "execute_result"
    },
    {
     "data": {
      "image/png": "[encoded data removed]",
      "text/plain": [
       "<Figure size 432x288 with 1 Axes>"
      ]
     },
     "metadata": {
      "needs_background": "light"
     },
     "output_type": "display_data"
    }
   ],
   "source": [
    "import pandas as pd\n",
    "df = pd.DataFrame(first,columns = ['Word','Count'])\n",
    "df.plot.bar(x='Word',y='Count',title = 'Most common Frequency Counts')"
   ]
  },
  {
   "cell_type": "code",
   "execution_count": null,
   "metadata": {},
   "outputs": [],
   "source": []
  }
 ],
 "metadata": {
  "kernelspec": {
   "display_name": "Python 3",
   "language": "python",
   "name": "python3"
  },
  "language_info": {
   "codemirror_mode": {
    "name": "ipython",
    "version": 3
   },
   "file_extension": ".py",
   "mimetype": "text/x-python",
   "name": "python",
   "nbconvert_exporter": "python",
   "pygments_lexer": "ipython3",
   "version": "3.7.4"
  }
 },
 "nbformat": 4,
 "nbformat_minor": 2
}
